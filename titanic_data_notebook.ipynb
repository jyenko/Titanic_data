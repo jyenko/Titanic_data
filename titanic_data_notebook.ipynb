{
 "cells": [
  {
   "cell_type": "markdown",
   "metadata": {},
   "source": [
    "This task will involve the analysis of data from Titanic passengers.\n",
    "\n",
    "At first look, through reading the .csv file in excel, we see a few interesting columns that merit further investigation.\n",
    "\n",
    "We will address the following questions through an analysis of the data:\n",
    "\n",
    "Is there a correlation between the fares passengers paid and whether or not they survived?\n",
    "Were passengers in higher classes more likely to survive than passengers in lower classes?\n",
    "Were female passengers more likely to survive than male passengers?"
   ]
  },
  {
   "cell_type": "markdown",
   "metadata": {},
   "source": [
    "To begin, we will load the .csv file into python:"
   ]
  },
  {
   "cell_type": "code",
   "execution_count": 1,
   "metadata": {
    "collapsed": true
   },
   "outputs": [],
   "source": [
    "#Import relevant packages\n",
    "import pandas as pd\n",
    "import matplotlib.pyplot as plt\n",
    "import seaborn as sns\n",
    "\n",
    "#Read in csv data using only relevant columns, as indicated by usecols()\n",
    "df = pd.read_csv('titanicdata.csv', header=0, names=['PassengerID', 'Survived', 'Class',\n",
    "                                                     'Sex', 'Fare'], usecols=(0,1,2,4,9))"
   ]
  },
  {
   "cell_type": "markdown",
   "metadata": {},
   "source": [
    "As can be seen above, we will only use certain columns, as some columns contain too many missing values and others contain information not relevant to our investigation."
   ]
  },
  {
   "cell_type": "code",
   "execution_count": 2,
   "metadata": {
    "collapsed": false
   },
   "outputs": [
    {
     "name": "stdout",
     "output_type": "stream",
     "text": [
      "Raw data types:\n",
      "PassengerID      int64\n",
      "Survived         int64\n",
      "Class            int64\n",
      "Sex             object\n",
      "Fare           float64\n",
      "dtype: object\n"
     ]
    }
   ],
   "source": [
    "#Check data types\n",
    "print \"Raw data types:\"\n",
    "print df.dtypes"
   ]
  },
  {
   "cell_type": "markdown",
   "metadata": {
    "collapsed": true
   },
   "source": [
    "Most columns are of an appropriate data type.  However, we will want to change the \"PassengerID\" column from an int to an object, since no arithmetic would be performed on it.  Also, we will want to change the \"Survived\" column from an int to a bool."
   ]
  },
  {
   "cell_type": "code",
   "execution_count": 3,
   "metadata": {
    "collapsed": true
   },
   "outputs": [],
   "source": [
    "#Fix data types\n",
    "def fix_data_types(col, newtype):\n",
    "    df[[col]] = df[[col]].astype(newtype)\n",
    "\n",
    "fix_data_types('PassengerID', object) #Change the PassengerID column to an object type\n",
    "fix_data_types('Survived', bool) #Change the Survived column to a bool type"
   ]
  },
  {
   "cell_type": "code",
   "execution_count": 4,
   "metadata": {
    "collapsed": false
   },
   "outputs": [
    {
     "name": "stdout",
     "output_type": "stream",
     "text": [
      "New data types:\n",
      "PassengerID     object\n",
      "Survived          bool\n",
      "Class            int64\n",
      "Sex             object\n",
      "Fare           float64\n",
      "dtype: object\n"
     ]
    }
   ],
   "source": [
    "print \"New data types:\"\n",
    "print df.dtypes"
   ]
  },
  {
   "cell_type": "markdown",
   "metadata": {},
   "source": [
    "Above, we can confirm the data types have been successfully changed."
   ]
  },
  {
   "cell_type": "code",
   "execution_count": 5,
   "metadata": {
    "collapsed": false
   },
   "outputs": [
    {
     "name": "stdout",
     "output_type": "stream",
     "text": [
      "PassengerID    0\n",
      "Survived       0\n",
      "Class          0\n",
      "Sex            0\n",
      "Fare           0\n",
      "dtype: int64\n"
     ]
    }
   ],
   "source": [
    "print df.isnull().sum() #Check for missing values"
   ]
  },
  {
   "cell_type": "markdown",
   "metadata": {},
   "source": [
    "We can confirm that our dataset with its selected columns contains no missing values."
   ]
  },
  {
   "cell_type": "markdown",
   "metadata": {},
   "source": [
    "Now we will begin our analysis by viewing descriptive statistics on the entire population of fares."
   ]
  },
  {
   "cell_type": "code",
   "execution_count": 6,
   "metadata": {
    "collapsed": false
   },
   "outputs": [
    {
     "name": "stdout",
     "output_type": "stream",
     "text": [
      "Overall fare statistics:\n",
      "count    891.000000\n",
      "mean      32.204208\n",
      "std       49.693429\n",
      "min        0.000000\n",
      "25%        7.910400\n",
      "50%       14.454200\n",
      "75%       31.000000\n",
      "max      512.329200\n",
      "Name: Fare, dtype: float64\n"
     ]
    }
   ],
   "source": [
    "print \"Overall fare statistics:\"\n",
    "\n",
    "print df['Fare'].describe() #Use the describe() method to view descriptive statistics"
   ]
  },
  {
   "cell_type": "markdown",
   "metadata": {},
   "source": [
    "There is clearly a wide range of fares paid by passengers, and these initial figures suggest that outliers exist towards the higher end of the range."
   ]
  },
  {
   "cell_type": "markdown",
   "metadata": {},
   "source": [
    "We will now use the pandas groupby() function to analyze fare data from survivors and non-survivors individually."
   ]
  },
  {
   "cell_type": "code",
   "execution_count": 7,
   "metadata": {
    "collapsed": true
   },
   "outputs": [],
   "source": [
    "survivors = df.groupby(['Survived']) #Using the Survived column"
   ]
  },
  {
   "cell_type": "code",
   "execution_count": 8,
   "metadata": {
    "collapsed": false
   },
   "outputs": [
    {
     "name": "stdout",
     "output_type": "stream",
     "text": [
      "Mean fare based on survival status\n",
      "Survived\n",
      "False    22.117887\n",
      "True     48.395408\n",
      "Name: Fare, dtype: float64\n"
     ]
    }
   ],
   "source": [
    "print \"Mean fare based on survival status\"\n",
    "print survivors['Fare'].mean() #Take the mean of the Fare column"
   ]
  },
  {
   "cell_type": "markdown",
   "metadata": {},
   "source": [
    "We see that those passengers who survived had a higher mean fare than those who did not."
   ]
  },
  {
   "cell_type": "markdown",
   "metadata": {},
   "source": [
    "Since the mean can be influenced by extreme values, as seen in the boxplot distribution above of all fares, we must also look at the median fare for both groups."
   ]
  },
  {
   "cell_type": "code",
   "execution_count": 9,
   "metadata": {
    "collapsed": false
   },
   "outputs": [
    {
     "name": "stdout",
     "output_type": "stream",
     "text": [
      "Median fare based on survival status\n",
      "Survived\n",
      "False    10.5\n",
      "True     26.0\n",
      "Name: Fare, dtype: float64\n"
     ]
    }
   ],
   "source": [
    "print \"Median fare based on survival status\"\n",
    "print survivors['Fare'].median() #Take the median of the Fare column"
   ]
  },
  {
   "cell_type": "markdown",
   "metadata": {},
   "source": [
    "Passengers who survived also had a higher median fare."
   ]
  },
  {
   "cell_type": "code",
   "execution_count": 10,
   "metadata": {
    "collapsed": false
   },
   "outputs": [
    {
     "name": "stdout",
     "output_type": "stream",
     "text": [
      "Survived\n",
      "False    549\n",
      "True     342\n",
      "dtype: int64\n"
     ]
    }
   ],
   "source": [
    "print survivors.size() #Take the total number of values for survivors and for non survivors"
   ]
  },
  {
   "cell_type": "markdown",
   "metadata": {},
   "source": [
    "More passengers in our dataset perished than survived."
   ]
  },
  {
   "cell_type": "markdown",
   "metadata": {},
   "source": [
    "Now we will look at the distribution of fares between survivors and non-survivors simultaneously."
   ]
  },
  {
   "cell_type": "code",
   "execution_count": 11,
   "metadata": {
    "collapsed": false
   },
   "outputs": [
    {
     "data": {
      "image/png": "[encoded data removed]",
      "text/plain": [
       "<matplotlib.figure.Figure at 0x9ed1160>"
      ]
     },
     "metadata": {},
     "output_type": "display_data"
    }
   ],
   "source": [
    "pas_survived = df.query('Survived==1')['Fare'] #Use the query() method to get the fare column for survivors\n",
    "pas_perished = df.query('Survived==0')['Fare'] #Use the query() method to get the fare column for non survivors\n",
    "\n",
    "fig2 = plt.figure()\n",
    "plt.hist(pas_survived, bins=100) #Set the number of bins to 100 for the histogram\n",
    "plt.hist(pas_perished, bins=100)\n",
    "fig2.suptitle('Distribution of fares by survival status') #Set the title of the chart\n",
    "plt.xlabel('Fare') #Label the x axis as Fare\n",
    "plt.ylabel('Number of occurences') #Label the y axis as Number of occurences\n",
    "plt.legend((\"Survived\", \"Perished\")) #Create a legend to distinguish each distribution\n",
    "plt.show()"
   ]
  },
  {
   "cell_type": "markdown",
   "metadata": {},
   "source": [
    "The main observation of this histogram is that the distribution of fares for non-survivors is substantially more positively skewed than that of the survivors, indicating that passengers who perished tended to have lower fares."
   ]
  },
  {
   "cell_type": "markdown",
   "metadata": {},
   "source": [
    "We will now look at the boxplot distributions for both groups and compare."
   ]
  },
  {
   "cell_type": "code",
   "execution_count": 12,
   "metadata": {
    "collapsed": false
   },
   "outputs": [
    {
     "data": {
      "image/png": "[encoded data removed]",
      "text/plain": [
       "<matplotlib.figure.Figure at 0x9f58be0>"
      ]
     },
     "metadata": {},
     "output_type": "display_data"
    }
   ],
   "source": [
    "sns.boxplot(data=df, y='Fare', x='Survived') #Create a boxplot showing the fare distribution by survival status\n",
    "sns.plt.show()"
   ]
  },
  {
   "cell_type": "markdown",
   "metadata": {},
   "source": [
    "From this boxplot, it is clear that most of the fares for non-survivors tended to be concentrated in the lower values, while those of the survivors were spread more into higher values.  Both groups are seen to have outliers."
   ]
  },
  {
   "cell_type": "markdown",
   "metadata": {},
   "source": [
    "We will now proceed to analyze the relationship between passenger class and survival."
   ]
  },
  {
   "cell_type": "code",
   "execution_count": 13,
   "metadata": {
    "collapsed": false
   },
   "outputs": [],
   "source": [
    "cabin = df.groupby(['Class']) #Using the class column"
   ]
  },
  {
   "cell_type": "markdown",
   "metadata": {},
   "source": [
    "First, we will examine fare statistics for each class."
   ]
  },
  {
   "cell_type": "code",
   "execution_count": 14,
   "metadata": {
    "collapsed": false
   },
   "outputs": [
    {
     "name": "stdout",
     "output_type": "stream",
     "text": [
      "Mean fare based on class\n",
      "Class\n",
      "1    84.154687\n",
      "2    20.662183\n",
      "3    13.675550\n",
      "Name: Fare, dtype: float64\n"
     ]
    }
   ],
   "source": [
    "print \"Mean fare based on class\"\n",
    "print cabin['Fare'].mean() #Compute the mean fare for each class"
   ]
  },
  {
   "cell_type": "markdown",
   "metadata": {},
   "source": [
    "It is clear that first class fares were considerably higher than second and third class fares."
   ]
  },
  {
   "cell_type": "code",
   "execution_count": 15,
   "metadata": {
    "collapsed": false
   },
   "outputs": [
    {
     "name": "stdout",
     "output_type": "stream",
     "text": [
      "Median fare based on class\n",
      "Class\n",
      "1    60.2875\n",
      "2    14.2500\n",
      "3     8.0500\n",
      "Name: Fare, dtype: float64\n"
     ]
    }
   ],
   "source": [
    "print \"Median fare based on class\"\n",
    "print cabin['Fare'].median() #Compute the median fare for each class"
   ]
  },
  {
   "cell_type": "markdown",
   "metadata": {},
   "source": [
    "We see that the median fares were also progressively higher for each class."
   ]
  },
  {
   "cell_type": "code",
   "execution_count": 16,
   "metadata": {
    "collapsed": false
   },
   "outputs": [
    {
     "name": "stdout",
     "output_type": "stream",
     "text": [
      "Class\n",
      "1    216\n",
      "2    184\n",
      "3    491\n",
      "dtype: int64\n"
     ]
    }
   ],
   "source": [
    "print cabin.size() #Display the number of passengers in each cabin"
   ]
  },
  {
   "cell_type": "markdown",
   "metadata": {},
   "source": [
    "By far, the third class cabin was the largest."
   ]
  },
  {
   "cell_type": "markdown",
   "metadata": {},
   "source": [
    "Now we will examine how many passengers in each class survived."
   ]
  },
  {
   "cell_type": "code",
   "execution_count": 17,
   "metadata": {
    "collapsed": false
   },
   "outputs": [
    {
     "name": "stdout",
     "output_type": "stream",
     "text": [
      "Class\n",
      "1    0.629630\n",
      "2    0.472826\n",
      "3    0.242363\n",
      "Name: Survived, dtype: float64\n"
     ]
    }
   ],
   "source": [
    "print df.groupby(['Class'])['Survived'].mean()"
   ]
  },
  {
   "cell_type": "markdown",
   "metadata": {},
   "source": [
    "From our above calculations, it is clear that first class passengers had the highest rate of survival, while third class passengers had the lowest."
   ]
  },
  {
   "cell_type": "markdown",
   "metadata": {},
   "source": [
    "We will now examine the relationship between gender and survival."
   ]
  },
  {
   "cell_type": "code",
   "execution_count": 18,
   "metadata": {
    "collapsed": false
   },
   "outputs": [
    {
     "name": "stdout",
     "output_type": "stream",
     "text": [
      "Sex\n",
      "female    0.742038\n",
      "male      0.188908\n",
      "Name: Survived, dtype: float64\n"
     ]
    }
   ],
   "source": [
    "print df.groupby(['Sex'])['Survived'].mean()"
   ]
  },
  {
   "cell_type": "markdown",
   "metadata": {},
   "source": [
    "Here, we see that a much higher percentage of female passengers (approx. 74%) survived than male passengers (approx. 19%), indicating a possibility that they were given priority for lifeboats."
   ]
  },
  {
   "cell_type": "markdown",
   "metadata": {},
   "source": [
    "In conclusion, it is clear that survivors tended to be those who paid higher fares.  Survivors had a higher mean fare as well as a higher median fare.  Furthermore, the visual charts we examined support the finding that survivors tended to have higher fares.  Also, passengers in higher class cabins tended to have a higher rate of survival than passengers in lower class cabins.  Finally, we have seen that a far greater percentage of female passengers survived than did male passengers.  However, it must be made clear that this analysis does not imply a causal relationship between the variables discussed above.  Also, it is not entirely guaranteed that the dataset used includes every passenger."
   ]
  },
  {
   "cell_type": "markdown",
   "metadata": {},
   "source": [
    "From this analysis, there are many other factors of the Titanic disaster that could be investigated.  If higher fare-paying passengers were more likely to survive, one would want to explore various contributing factors.  For example, did higher fare-paying passengers have the money to bribe staff into allowing them onto lifeboats?  Also, did the placement of First, Second, and Third class cabins affect passengers' ability to reach lifeboats?  These are just a few questions that could be explored in light of this analysis."
   ]
  }
 ],
 "metadata": {
  "kernelspec": {
   "display_name": "stormicide",
   "language": "python",
   "name": "stormicide"
  },
  "language_info": {
   "codemirror_mode": {
    "name": "ipython",
    "version": 2
   },
   "file_extension": ".py",
   "mimetype": "text/x-python",
   "name": "python",
   "nbconvert_exporter": "python",
   "pygments_lexer": "ipython2",
   "version": "2.7.13"
  }
 },
 "nbformat": 4,
 "nbformat_minor": 2
}
